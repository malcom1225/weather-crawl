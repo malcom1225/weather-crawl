{
 "cells": [
  {
   "cell_type": "code",
   "execution_count": 9,
   "source": [
    "import requests \r\n",
    "from bs4 import BeautifulSoup"
   ],
   "outputs": [],
   "metadata": {}
  },
  {
   "cell_type": "code",
   "execution_count": 19,
   "source": [
    "\r\n",
    "soup = BeautifulSoup(requests.get(\"https://weather.com/forecast/air-quality/l/495b7c9b6fd1597a531b13797693f17973525dbb766972208d891625c303f24b\").content,'html.parser')\r\n",
    "# soup = soup.find('div',class_=\"current-weather-card card-module content-module non-ad\")\r\n",
    "value = soup.find('text',class_=\"DonutChart--innerValue--2rO41 AirQuality--extendedDialText--2AsJa\").text\r\n",
    "\r\n",
    "quality = soup.find('span',class_=\"AirQualityText--severity--1fu5k AirQuality--extendedDialCategotyText--1Adwm\").text\r\n",
    "\r\n",
    "pollution = soup.find('div',class_=\"AirQuality--rightCol--3MRhw\").text\r\n",
    "\r\n",
    "quality_desc = soup.find('p',class_=\"AirQualityText--severityText--1wT_O AirQuality--extendedDialSeverityText--2rz1B\").text\r\n"
   ],
   "outputs": [
    {
     "output_type": "execute_result",
     "data": {
      "text/plain": [
       "'Air quality is acceptable; however, for some pollutants there may be a moderate health concern for a very small number of people who are unusually sensitive to air pollution.'"
      ]
     },
     "metadata": {},
     "execution_count": 19
    }
   ],
   "metadata": {}
  },
  {
   "cell_type": "code",
   "execution_count": 26,
   "source": [
    "soup = BeautifulSoup(requests.get(\"https://weather.com/weather/today/l/10.48,107.21\").content,'html.parser')\r\n",
    "\r\n",
    "soup = soup.find('div',class_=\"TodayDetailsCard--detailsContainer--16Hg0\")\r\n",
    "soup = soup.find_all('div',class_=\"WeatherDetailsListItem--wxData--2s6HT\")\r\n",
    "for bow in soup:\r\n",
    "    child = bow.find(\"span\")\r\n",
    "    if \"UVIndexValue\" in child['data-testid']:\r\n",
    "        uv = child.text\r\n",
    "        break\r\n",
    "uv"
   ],
   "outputs": [
    {
     "output_type": "execute_result",
     "data": {
      "text/plain": [
       "'9 of 10'"
      ]
     },
     "metadata": {},
     "execution_count": 26
    }
   ],
   "metadata": {}
  }
 ],
 "metadata": {
  "orig_nbformat": 4,
  "language_info": {
   "name": "python",
   "version": "3.9.6",
   "mimetype": "text/x-python",
   "codemirror_mode": {
    "name": "ipython",
    "version": 3
   },
   "pygments_lexer": "ipython3",
   "nbconvert_exporter": "python",
   "file_extension": ".py"
  },
  "kernelspec": {
   "name": "python3",
   "display_name": "Python 3.9.6 64-bit"
  },
  "interpreter": {
   "hash": "06cb67651ce969e244f20f184e33f4ddb1106793adfe07cf7ddc131c95c4012f"
  }
 },
 "nbformat": 4,
 "nbformat_minor": 2
}